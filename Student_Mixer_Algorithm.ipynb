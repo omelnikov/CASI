{
  "nbformat": 4,
  "nbformat_minor": 0,
  "metadata": {
    "colab": {
      "name": "Student Mixer Algorithm.ipynb",
      "provenance": [],
      "collapsed_sections": [],
      "authorship_tag": "ABX9TyOLKdFTP+Mf+Zj6cyfyaHir",
      "include_colab_link": true
    },
    "kernelspec": {
      "name": "python3",
      "display_name": "Python 3"
    },
    "language_info": {
      "name": "python"
    }
  },
  "cells": [
    {
      "cell_type": "markdown",
      "metadata": {
        "id": "view-in-github",
        "colab_type": "text"
      },
      "source": [
        "<a href=\"https://colab.research.google.com/github/omelnikov/CASI/blob/main/Student_Mixer_Algorithm.ipynb\" target=\"_parent\"><img src=\"https://colab.research.google.com/assets/colab-badge.svg\" alt=\"Open In Colab\"/></a>"
      ]
    },
    {
      "cell_type": "markdown",
      "source": [
        "Author: Oleg Melnikov, Spring 2022"
      ],
      "metadata": {
        "id": "HxsGCgwStYD1"
      }
    },
    {
      "cell_type": "code",
      "metadata": {
        "id": "ZmfYCJgBZ3Ij"
      },
      "source": [
        "%reset -f\n",
        "from IPython.core.interactiveshell import InteractiveShell as IS; IS.ast_node_interactivity = \"all\" \n",
        "import pandas as pd, time, plotly, random, pprint"
      ],
      "execution_count": null,
      "outputs": []
    },
    {
      "cell_type": "markdown",
      "metadata": {
        "id": "2sxuY84y3lc_"
      },
      "source": [
        "Past groupings. The number is 👥+group number. Eg. `11` is group `'1👥💎A'`"
      ]
    },
    {
      "cell_type": "code",
      "source": [
        "S = lambda s: s.split()\n",
        "n2G81 = dict(\n",
        "Alexander='1A'.split(), \n",
        "Alyson   ='1A'.split(), \n",
        "Andrew   ='1B'.split(), \n",
        "Brandon  ='1B'.split(),\n",
        "Chris    ='1C'.split(), \n",
        "Jonathan ='1C'.split(), \n",
        "Josh     ='1D'.split(), \n",
        "Liz      ='1D'.split(), \n",
        "Nicolas  ='1E'.split(), \n",
        "Rachel   ='1E'.split(), \n",
        "Stephanie='1F'.split(), \n",
        "Syed     ='1F'.split(),\n",
        "Thomas   ='1G'.split(), \n",
        "Trey     ='1G'.split(), \n",
        "Umair    ='1H'.split(), \n",
        "Xiang    ='1H'.split(), \n",
        "Yannis   ='1I'.split(), \n",
        "Ashley   ='1I'.split())"
      ],
      "metadata": {
        "id": "C2M1rZsmj98j"
      },
      "execution_count": null,
      "outputs": []
    },
    {
      "cell_type": "code",
      "metadata": {
        "id": "fRwtLLY93Mlr"
      },
      "source": [
        "# n2G81 = dict(\n",
        "# Alexander=[11], Alyson   =[11], Andrew   =[12], Brandon    =[12],\n",
        "# Chris    =[13], Jonathan =[13], Josh     =[14], Liz        =[14], \n",
        "# Nicolas  =[15], Rachel   =[15], Stephanie=[16], Syed       =[16],\n",
        "# Thomas   =[17], Trey     =[17], Umair    =[18], Xiang      =[18], Yannis=[19], Ashley=[19])"
      ],
      "execution_count": null,
      "outputs": []
    },
    {
      "cell_type": "markdown",
      "metadata": {
        "id": "pjHX5zL23oQQ"
      },
      "source": [
        "Create previous partnerships per person."
      ]
    },
    {
      "cell_type": "code",
      "metadata": {
        "id": "IyPuDVFBYeBH"
      },
      "source": [
        "n2G = n2G81 # name2Groups map\n",
        "g2N, n2N = {}, {}  # group to Names (in the group), name to Names (of previous partners)\n",
        "_ = [[g2N.setdefault(g, set()).add(n) for g in G] for n, G in n2G.items()]\n",
        "_ = [n2N.setdefault(n, sorted(list(zip(*[g2N[g]-{n} for g in G]))[0])) for n, G in n2G.items()] # find old partners\n",
        "# n2N"
      ],
      "execution_count": null,
      "outputs": []
    },
    {
      "cell_type": "markdown",
      "metadata": {
        "id": "XT7y-fyS3u-n"
      },
      "source": [
        "For each student X: sample a partner from non-partners. Also, exclude X and already assigned students."
      ]
    },
    {
      "cell_type": "code",
      "metadata": {
        "colab": {
          "base_uri": "https://localhost:8080/",
          "height": 112
        },
        "id": "glEuumUUz7CF",
        "outputId": "bd102a5a-2c29-45e7-bab0-f67ccd3548b9"
      },
      "source": [
        "n2p = []  # name2partner\n",
        "All = set(n2N.keys())\n",
        "Assigned = set()\n",
        "random.seed(0)\n",
        "for n in All:\n",
        "  if not n in Assigned:\n",
        "    p = random.sample(All - set(n2N[n]) - {n} - Assigned, 1)[0]\n",
        "    Assigned.add(p)\n",
        "    Assigned.add(n)\n",
        "    n2p.append([(n, p) ][0])\n",
        "\n",
        "# pd.DataFrame(n2p, index=list(range(1,len(n2p)+1))).T\n",
        "pd.DataFrame(n2p, index=list('ABCDEFGHI')).T"
      ],
      "execution_count": null,
      "outputs": [
        {
          "output_type": "execute_result",
          "data": {
            "text/html": [
              "\n",
              "  <div id=\"df-6822dd1d-c1b3-4290-8535-c18c5bd00613\">\n",
              "    <div class=\"colab-df-container\">\n",
              "      <div>\n",
              "<style scoped>\n",
              "    .dataframe tbody tr th:only-of-type {\n",
              "        vertical-align: middle;\n",
              "    }\n",
              "\n",
              "    .dataframe tbody tr th {\n",
              "        vertical-align: top;\n",
              "    }\n",
              "\n",
              "    .dataframe thead th {\n",
              "        text-align: right;\n",
              "    }\n",
              "</style>\n",
              "<table border=\"1\" class=\"dataframe\">\n",
              "  <thead>\n",
              "    <tr style=\"text-align: right;\">\n",
              "      <th></th>\n",
              "      <th>A</th>\n",
              "      <th>B</th>\n",
              "      <th>C</th>\n",
              "      <th>D</th>\n",
              "      <th>E</th>\n",
              "      <th>F</th>\n",
              "      <th>G</th>\n",
              "      <th>H</th>\n",
              "      <th>I</th>\n",
              "    </tr>\n",
              "  </thead>\n",
              "  <tbody>\n",
              "    <tr>\n",
              "      <th>0</th>\n",
              "      <td>Thomas</td>\n",
              "      <td>Trey</td>\n",
              "      <td>Yannis</td>\n",
              "      <td>Josh</td>\n",
              "      <td>Xiang</td>\n",
              "      <td>Andrew</td>\n",
              "      <td>Nicolas</td>\n",
              "      <td>Syed</td>\n",
              "      <td>Ashley</td>\n",
              "    </tr>\n",
              "    <tr>\n",
              "      <th>1</th>\n",
              "      <td>Alyson</td>\n",
              "      <td>Umair</td>\n",
              "      <td>Brandon</td>\n",
              "      <td>Chris</td>\n",
              "      <td>Rachel</td>\n",
              "      <td>Liz</td>\n",
              "      <td>Alexander</td>\n",
              "      <td>Jonathan</td>\n",
              "      <td>Stephanie</td>\n",
              "    </tr>\n",
              "  </tbody>\n",
              "</table>\n",
              "</div>\n",
              "      <button class=\"colab-df-convert\" onclick=\"convertToInteractive('df-6822dd1d-c1b3-4290-8535-c18c5bd00613')\"\n",
              "              title=\"Convert this dataframe to an interactive table.\"\n",
              "              style=\"display:none;\">\n",
              "        \n",
              "  <svg xmlns=\"http://www.w3.org/2000/svg\" height=\"24px\"viewBox=\"0 0 24 24\"\n",
              "       width=\"24px\">\n",
              "    <path d=\"M0 0h24v24H0V0z\" fill=\"none\"/>\n",
              "    <path d=\"M18.56 5.44l.94 2.06.94-2.06 2.06-.94-2.06-.94-.94-2.06-.94 2.06-2.06.94zm-11 1L8.5 8.5l.94-2.06 2.06-.94-2.06-.94L8.5 2.5l-.94 2.06-2.06.94zm10 10l.94 2.06.94-2.06 2.06-.94-2.06-.94-.94-2.06-.94 2.06-2.06.94z\"/><path d=\"M17.41 7.96l-1.37-1.37c-.4-.4-.92-.59-1.43-.59-.52 0-1.04.2-1.43.59L10.3 9.45l-7.72 7.72c-.78.78-.78 2.05 0 2.83L4 21.41c.39.39.9.59 1.41.59.51 0 1.02-.2 1.41-.59l7.78-7.78 2.81-2.81c.8-.78.8-2.07 0-2.86zM5.41 20L4 18.59l7.72-7.72 1.47 1.35L5.41 20z\"/>\n",
              "  </svg>\n",
              "      </button>\n",
              "      \n",
              "  <style>\n",
              "    .colab-df-container {\n",
              "      display:flex;\n",
              "      flex-wrap:wrap;\n",
              "      gap: 12px;\n",
              "    }\n",
              "\n",
              "    .colab-df-convert {\n",
              "      background-color: #E8F0FE;\n",
              "      border: none;\n",
              "      border-radius: 50%;\n",
              "      cursor: pointer;\n",
              "      display: none;\n",
              "      fill: #1967D2;\n",
              "      height: 32px;\n",
              "      padding: 0 0 0 0;\n",
              "      width: 32px;\n",
              "    }\n",
              "\n",
              "    .colab-df-convert:hover {\n",
              "      background-color: #E2EBFA;\n",
              "      box-shadow: 0px 1px 2px rgba(60, 64, 67, 0.3), 0px 1px 3px 1px rgba(60, 64, 67, 0.15);\n",
              "      fill: #174EA6;\n",
              "    }\n",
              "\n",
              "    [theme=dark] .colab-df-convert {\n",
              "      background-color: #3B4455;\n",
              "      fill: #D2E3FC;\n",
              "    }\n",
              "\n",
              "    [theme=dark] .colab-df-convert:hover {\n",
              "      background-color: #434B5C;\n",
              "      box-shadow: 0px 1px 3px 1px rgba(0, 0, 0, 0.15);\n",
              "      filter: drop-shadow(0px 1px 2px rgba(0, 0, 0, 0.3));\n",
              "      fill: #FFFFFF;\n",
              "    }\n",
              "  </style>\n",
              "\n",
              "      <script>\n",
              "        const buttonEl =\n",
              "          document.querySelector('#df-6822dd1d-c1b3-4290-8535-c18c5bd00613 button.colab-df-convert');\n",
              "        buttonEl.style.display =\n",
              "          google.colab.kernel.accessAllowed ? 'block' : 'none';\n",
              "\n",
              "        async function convertToInteractive(key) {\n",
              "          const element = document.querySelector('#df-6822dd1d-c1b3-4290-8535-c18c5bd00613');\n",
              "          const dataTable =\n",
              "            await google.colab.kernel.invokeFunction('convertToInteractive',\n",
              "                                                     [key], {});\n",
              "          if (!dataTable) return;\n",
              "\n",
              "          const docLinkHtml = 'Like what you see? Visit the ' +\n",
              "            '<a target=\"_blank\" href=https://colab.research.google.com/notebooks/data_table.ipynb>data table notebook</a>'\n",
              "            + ' to learn more about interactive tables.';\n",
              "          element.innerHTML = '';\n",
              "          dataTable['output_type'] = 'display_data';\n",
              "          await google.colab.output.renderOutput(dataTable, element);\n",
              "          const docLink = document.createElement('div');\n",
              "          docLink.innerHTML = docLinkHtml;\n",
              "          element.appendChild(docLink);\n",
              "        }\n",
              "      </script>\n",
              "    </div>\n",
              "  </div>\n",
              "  "
            ],
            "text/plain": [
              "        A      B        C      D  ...       F          G         H          I\n",
              "0  Thomas   Trey   Yannis   Josh  ...  Andrew    Nicolas      Syed     Ashley\n",
              "1  Alyson  Umair  Brandon  Chris  ...     Liz  Alexander  Jonathan  Stephanie\n",
              "\n",
              "[2 rows x 9 columns]"
            ]
          },
          "metadata": {},
          "execution_count": 19
        }
      ]
    },
    {
      "cell_type": "code",
      "source": [
        ""
      ],
      "metadata": {
        "id": "cwxCFTkLmOZv"
      },
      "execution_count": null,
      "outputs": []
    }
  ]
}